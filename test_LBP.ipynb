{
 "metadata": {
  "language_info": {
   "codemirror_mode": {
    "name": "ipython",
    "version": 3
   },
   "file_extension": ".py",
   "mimetype": "text/x-python",
   "name": "python",
   "nbconvert_exporter": "python",
   "pygments_lexer": "ipython3",
   "version": "3.6.8-final"
  },
  "orig_nbformat": 2,
  "kernelspec": {
   "name": "python3",
   "display_name": "Python 3.6.8 64-bit",
   "metadata": {
    "interpreter": {
     "hash": "aee8b7b246df8f9039afb4144a1f6fd8d2ca17a180786b69acc140d282b71a49"
    }
   }
  }
 },
 "nbformat": 4,
 "nbformat_minor": 2,
 "cells": [
  {
   "cell_type": "code",
   "execution_count": 1,
   "metadata": {},
   "outputs": [],
   "source": [
    "import cv2\n",
    "import numpy as np\n",
    "from skimage import feature\n",
    "import matplotlib.pyplot as plt\n",
    "from scipy.spatial import distance\n",
    "from tensorflow.keras.preprocessing.image import ImageDataGenerator\n",
    "\n",
    "\n",
    "def LBP(image, numPoints, radius, eps=1e-7):\n",
    "    image = cv2.cvtColor(image, cv2.COLOR_BGR2GRAY)\n",
    "    # compute the Local Binary Pattern representation\n",
    "    # of the image, and then use the LBP representation\n",
    "    # to build the histogram of patterns\n",
    "    lbp = feature.local_binary_pattern(image, numPoints,\n",
    "                                       radius, method=\"var\")\n",
    "    (hist, _) = np.histogram(lbp.ravel(),\n",
    "                             bins=np.arange(0, numPoints + 3),\n",
    "                             range=(0, numPoints + 2))\n",
    "    # normalize the histogram\n",
    "    hist = hist.astype(\"float\")\n",
    "    hist /= (hist.sum() + eps)\n",
    "    # return the histogram of Local Binary Patterns\n",
    "    return np.array([hist])\n",
    "\n",
    "\n",
    "train_generator = ImageDataGenerator(\n",
    "    # rescale=1./255,\n",
    "    # rotation_range=10,\n",
    "    # zoom_range=0.1,\n",
    "    # width_shift_range=0.1,\n",
    "    # height_shift_range=0.1,\n",
    "    brightness_range=[0.8, 1.3],  # [0.1, 1.5]\n",
    "    # shear_range=0.1,\n",
    "    horizontal_flip=True,\n",
    ")"
   ]
  },
  {
   "cell_type": "code",
   "execution_count": 2,
   "metadata": {},
   "outputs": [
    {
     "output_type": "stream",
     "name": "stdout",
     "text": [
      "Found 982 images belonging to 4 classes.\n"
     ]
    }
   ],
   "source": [
    "data = train_generator.flow_from_directory('faces',\n",
    "                                           target_size=(128, 128),\n",
    "                                           batch_size=1,\n",
    "                                           color_mode='rgb',  # 'grayscale',\n",
    "                                           class_mode='sparse',\n",
    "                                        #    shuffle=True,\n",
    "                                           seed=2020)"
   ]
  },
  {
   "cell_type": "code",
   "execution_count": 3,
   "metadata": {},
   "outputs": [
    {
     "output_type": "error",
     "ename": "ValueError",
     "evalue": "cannot reshape array of size 49152 into shape (128,128)",
     "traceback": [
      "\u001b[0;31m---------------------------------------------------------------------------\u001b[0m",
      "\u001b[0;31mValueError\u001b[0m                                Traceback (most recent call last)",
      "\u001b[0;32m<ipython-input-3-0400cdddfd2f>\u001b[0m in \u001b[0;36m<module>\u001b[0;34m\u001b[0m\n\u001b[1;32m      7\u001b[0m     \u001b[0;31m# plt.subplot(5, 5, idx+1)\u001b[0m\u001b[0;34m\u001b[0m\u001b[0;34m\u001b[0m\u001b[0;34m\u001b[0m\u001b[0m\n\u001b[1;32m      8\u001b[0m     \u001b[0mimg\u001b[0m \u001b[0;34m=\u001b[0m \u001b[0mdata\u001b[0m\u001b[0;34m[\u001b[0m\u001b[0mi\u001b[0m\u001b[0;34m]\u001b[0m\u001b[0;34m[\u001b[0m\u001b[0;36m0\u001b[0m\u001b[0;34m]\u001b[0m\u001b[0;34m[\u001b[0m\u001b[0;36m0\u001b[0m\u001b[0;34m]\u001b[0m\u001b[0;34m\u001b[0m\u001b[0;34m\u001b[0m\u001b[0m\n\u001b[0;32m----> 9\u001b[0;31m     \u001b[0mimg\u001b[0m \u001b[0;34m=\u001b[0m \u001b[0mimg\u001b[0m\u001b[0;34m.\u001b[0m\u001b[0mreshape\u001b[0m\u001b[0;34m(\u001b[0m\u001b[0mimg\u001b[0m\u001b[0;34m.\u001b[0m\u001b[0mshape\u001b[0m\u001b[0;34m[\u001b[0m\u001b[0;34m:\u001b[0m\u001b[0;36m2\u001b[0m\u001b[0;34m]\u001b[0m\u001b[0;34m)\u001b[0m\u001b[0;34m\u001b[0m\u001b[0;34m\u001b[0m\u001b[0m\n\u001b[0m\u001b[1;32m     10\u001b[0m \u001b[0;34m\u001b[0m\u001b[0m\n\u001b[1;32m     11\u001b[0m     \u001b[0;31m# cv2.imwrite('test_' + str(idx) + '.jpg', img)\u001b[0m\u001b[0;34m\u001b[0m\u001b[0;34m\u001b[0m\u001b[0;34m\u001b[0m\u001b[0m\n",
      "\u001b[0;31mValueError\u001b[0m: cannot reshape array of size 49152 into shape (128,128)"
     ]
    }
   ],
   "source": [
    "# # print('POSITIVE')\n",
    "# idx = 0\n",
    "# plt.rcParams['figure.figsize'] = (18.0, 18.0)\n",
    "# plt.subplots_adjust(wspace=0.05, hspace=0.2)\n",
    "\n",
    "# for i in range(len(data)):\n",
    "#     # plt.subplot(5, 5, idx+1)\n",
    "#     img = data[i][0][0]\n",
    "#     img = img.reshape(img.shape[:2])\n",
    "    \n",
    "#     # cv2.imwrite('test_' + str(idx) + '.jpg', img)\n",
    "#     # plt.imshow(cv2.cvtColor(img, cv2.COLOR_BGR2GRAY))\n",
    "#     # plt.axis('off')\n",
    "#     idx += 1\n",
    "#     if idx == 5:\n",
    "#         break\n"
   ]
  },
  {
   "cell_type": "code",
   "execution_count": 10,
   "metadata": {},
   "outputs": [],
   "source": [
    "import face_recognition as fr\n",
    "\n",
    "def extract_features(img):\n",
    "    # resize to TARGET_SIZE\n",
    "    # to use with face_recognition faster\n",
    "    # img = cv2.resize(img, TARGET_SIZE)\n",
    "    try:\n",
    "        print(img.shape)\n",
    "        face_bounding_boxes = fr.face_locations(img)\n",
    "        cv2.imwrite('abc.jpg', img)\n",
    "        # If detecting image contains exactly one face\n",
    "        if len(face_bounding_boxes) == 1:\n",
    "            # feature_vector = fr.face_encodings(img, face_bounding_boxes)\n",
    "\n",
    "            # top, right, bottom, left = face_bounding_boxes[0]\n",
    "            # roi = img[top:bottom, left:right]\n",
    "            # img_ycrcb = cv2.cvtColor(roi, cv2.COLOR_BGR2YCR_CB)\n",
    "            # img_luv = cv2.cvtColor(roi, cv2.COLOR_BGR2LUV)\n",
    "\n",
    "            # ycrcb_hist = calc_hist(img_ycrcb)\n",
    "            # luv_hist = calc_hist(img_luv)\n",
    "            # feature_vector = np.append(ycrcb_hist.ravel(), luv_hist.ravel())\n",
    "            # feature_vector = feature_vector.reshape(1, len(feature_vector))\n",
    "            \n",
    "            feature_vector = LBP(img, 24, 8)\n",
    "\n",
    "            return feature_vector\n",
    "        else:\n",
    "            return []\n",
    "    except:\n",
    "        return []"
   ]
  },
  {
   "cell_type": "code",
   "execution_count": 11,
   "metadata": {},
   "outputs": [
    {
     "output_type": "stream",
     "name": "stdout",
     "text": [
      "(128, 128, 3)\n"
     ]
    }
   ],
   "source": [
    "X = []\n",
    "for i in range(len(data)):\n",
    "    # plt.subplot(5, 5, idx+1)\n",
    "    img = cv2.cvtColor(data[i][0][0], cv2.COLOR_RGB2BGR)\n",
    "    # img = img.reshape(img.shape[:2])\n",
    "    X.append(extract_features(img))\n",
    "    break"
   ]
  },
  {
   "cell_type": "code",
   "execution_count": 12,
   "metadata": {},
   "outputs": [
    {
     "output_type": "execute_result",
     "data": {
      "text/plain": [
       "(1, 0)"
      ]
     },
     "metadata": {},
     "execution_count": 12
    }
   ],
   "source": [
    "X = np.array(X)\n",
    "X.shape"
   ]
  },
  {
   "cell_type": "code",
   "execution_count": null,
   "metadata": {},
   "outputs": [],
   "source": []
  }
 ]
}