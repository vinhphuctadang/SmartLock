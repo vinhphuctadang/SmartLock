{
 "metadata": {
  "language_info": {
   "codemirror_mode": {
    "name": "ipython",
    "version": 3
   },
   "file_extension": ".py",
   "mimetype": "text/x-python",
   "name": "python",
   "nbconvert_exporter": "python",
   "pygments_lexer": "ipython3",
   "version": "3.8.5-final"
  },
  "orig_nbformat": 2,
  "kernelspec": {
   "name": "Python 3.8.5 64-bit",
   "display_name": "Python 3.8.5 64-bit",
   "metadata": {
    "interpreter": {
     "hash": "31f2aee4e71d21fbe5cf8b01ff0e069b9275f58929596ceb00d14d90e3e16cd6"
    }
   }
  }
 },
 "nbformat": 4,
 "nbformat_minor": 2,
 "cells": [
  {
   "cell_type": "code",
   "execution_count": null,
   "metadata": {},
   "outputs": [],
   "source": [
    "# install dependencies if not exists\n",
    "!pip3 install tensorflow==2.3"
   ]
  },
  {
   "cell_type": "code",
   "execution_count": 1,
   "metadata": {},
   "outputs": [
    {
     "output_type": "stream",
     "name": "stdout",
     "text": [
      "2.3.0\n"
     ]
    }
   ],
   "source": [
    "# import modules\n",
    "import tensorflow\n",
    "from tensorflow import keras \n",
    "import logger \n",
    "import os\n",
    "print(tensorflow.__version__)"
   ]
  },
  {
   "cell_type": "code",
   "execution_count": 3,
   "metadata": {},
   "outputs": [
    {
     "output_type": "stream",
     "name": "stdout",
     "text": [
      "Model: \"sequential_1\"\n_________________________________________________________________\nLayer (type)                 Output Shape              Param #   \n=================================================================\nflatten_1 (Flatten)          (None, 49152)             0         \n_________________________________________________________________\ndense_2 (Dense)              (None, 32)                1572896   \n_________________________________________________________________\ndropout_1 (Dropout)          (None, 32)                0         \n_________________________________________________________________\ndense_3 (Dense)              (None, 2)                 66        \n=================================================================\nTotal params: 1,572,962\nTrainable params: 1,572,962\nNon-trainable params: 0\n_________________________________________________________________\n"
     ]
    }
   ],
   "source": [
    "# prepare model\n",
    "\n",
    "# naive model with fully connected\n",
    "model = keras.Sequential()\n",
    "model.add(keras.layers.Flatten(input_shape=(128,128,3)))\n",
    "model.add(keras.layers.Dense(32, activation='relu'))\n",
    "model.add(keras.layers.Dropout(0.2))\n",
    "model.add(keras.layers.Dense(2, activation='softmax'))\n",
    "model.compile(optimizer='adam', loss='categorical_crossentropy', metrics=['accuracy'])\n",
    "model.summary()         "
   ]
  },
  {
   "cell_type": "code",
   "execution_count": 4,
   "metadata": {},
   "outputs": [
    {
     "output_type": "stream",
     "name": "stdout",
     "text": [
      "Found 450 images belonging to 2 classes.\nFound 224 images belonging to 2 classes.\n"
     ]
    }
   ],
   "source": [
    "# configs\n",
    "img_height = 128\n",
    "img_width  = 128\n",
    "batch_size = 32\n",
    "\n",
    "# preprocess training data\n",
    "train_datagen = keras.preprocessing.image.ImageDataGenerator(rescale=1./255, validation_split=1/3)\n",
    "train_set = train_datagen.flow_from_directory(\n",
    "    './faces',\n",
    "    seed=10, # TODO: Change to time()\n",
    "    target_size=(128,128),\n",
    "    class_mode='categorical', \n",
    "    batch_size=32, \n",
    "    subset=\"training\"\n",
    ")\n",
    "\n",
    "test_set = train_datagen.flow_from_directory(\n",
    "    './faces',\n",
    "    seed=10, # TODO: Change to time()\n",
    "    target_size=(128,128),\n",
    "    class_mode='categorical', \n",
    "    batch_size=32, \n",
    "    subset=\"validation\"\n",
    ")"
   ]
  },
  {
   "cell_type": "code",
   "execution_count": 5,
   "metadata": {
    "tags": []
   },
   "outputs": [
    {
     "output_type": "stream",
     "name": "stdout",
     "text": [
      "WARNING:tensorflow:From <ipython-input-5-feac4b622b4d>:2: Model.fit_generator (from tensorflow.python.keras.engine.training) is deprecated and will be removed in a future version.\n",
      "Instructions for updating:\n",
      "Please use Model.fit, which supports generators.\n",
      "Epoch 1/10\n",
      "15/15 [==============================] - 1s 37ms/step - loss: 2.4395 - accuracy: 0.5933 - val_loss: 0.4483 - val_accuracy: 0.7500\n",
      "Epoch 2/10\n",
      "15/15 [==============================] - 0s 30ms/step - loss: 0.3223 - accuracy: 0.8267 - val_loss: 0.3307 - val_accuracy: 0.9286\n",
      "Epoch 3/10\n",
      "15/15 [==============================] - 0s 31ms/step - loss: 0.3122 - accuracy: 0.8356 - val_loss: 0.3393 - val_accuracy: 0.8170\n",
      "Epoch 4/10\n",
      "15/15 [==============================] - 0s 31ms/step - loss: 0.1801 - accuracy: 0.8933 - val_loss: 0.2126 - val_accuracy: 0.9152\n",
      "Epoch 5/10\n",
      "15/15 [==============================] - 0s 31ms/step - loss: 0.1282 - accuracy: 0.9178 - val_loss: 0.2151 - val_accuracy: 0.9330\n",
      "Epoch 6/10\n",
      "15/15 [==============================] - 0s 31ms/step - loss: 0.1149 - accuracy: 0.9133 - val_loss: 0.1381 - val_accuracy: 0.9509\n",
      "Epoch 7/10\n",
      "15/15 [==============================] - 0s 30ms/step - loss: 0.1100 - accuracy: 0.9133 - val_loss: 0.1883 - val_accuracy: 0.9062\n",
      "Epoch 8/10\n",
      "15/15 [==============================] - 0s 31ms/step - loss: 0.1061 - accuracy: 0.9733 - val_loss: 0.1329 - val_accuracy: 0.9464\n",
      "Epoch 9/10\n",
      "15/15 [==============================] - 0s 30ms/step - loss: 0.0671 - accuracy: 0.9800 - val_loss: 0.1040 - val_accuracy: 0.9554\n",
      "Epoch 10/10\n",
      "15/15 [==============================] - 0s 31ms/step - loss: 0.0668 - accuracy: 0.9844 - val_loss: 0.1312 - val_accuracy: 0.9420\n"
     ]
    },
    {
     "output_type": "execute_result",
     "data": {
      "text/plain": [
       "<tensorflow.python.keras.callbacks.History at 0x7f6fac33ce50>"
      ]
     },
     "metadata": {},
     "execution_count": 5
    }
   ],
   "source": [
    "# train \n",
    "model.fit_generator(\n",
    "    train_set, # data to train, a format of (X, y)\n",
    "    steps_per_epoch=len(train_set), # The number of batch iterations before a training epoch is considered finished. Ignore if whole data is load, in our case, we need this in order to iterate over batches; hence make sure that generator can generate at least: steps_per_epoch * epochs batches\n",
    "    epochs=10, # number of epochs, i.e number of time that iteration of updating weights goes\n",
    "    validation_data=test_set, # validation\n",
    "    validation_steps=len(test_set)\n",
    ")"
   ]
  },
  {
   "cell_type": "code",
   "execution_count": 6,
   "metadata": {},
   "outputs": [],
   "source": [
    "# save model\n",
    "model.save('fc_2cls.h5')"
   ]
  },
  {
   "cell_type": "code",
   "execution_count": 32,
   "metadata": {},
   "outputs": [
    {
     "output_type": "stream",
     "name": "stdout",
     "text": [
      "\u001b[34m[DEBUG, \"/usr/lib/python3.8/runpy.py\":194, in _run_module_as_main]\u001b[39m 32\n"
     ]
    }
   ],
   "source": [
    "logger.debug(len(model.layers[1].get_weights()[0][2]))"
   ]
  }
 ]
}