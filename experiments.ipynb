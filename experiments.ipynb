{
 "metadata": {
  "language_info": {
   "codemirror_mode": {
    "name": "ipython",
    "version": 3
   },
   "file_extension": ".py",
   "mimetype": "text/x-python",
   "name": "python",
   "nbconvert_exporter": "python",
   "pygments_lexer": "ipython3",
   "version": "3.8.5-final"
  },
  "orig_nbformat": 2,
  "kernelspec": {
   "name": "Python 3.8.5 64-bit",
   "display_name": "Python 3.8.5 64-bit",
   "metadata": {
    "interpreter": {
     "hash": "31f2aee4e71d21fbe5cf8b01ff0e069b9275f58929596ceb00d14d90e3e16cd6"
    }
   }
  }
 },
 "nbformat": 4,
 "nbformat_minor": 2,
 "cells": [
  {
   "cell_type": "code",
   "execution_count": null,
   "metadata": {},
   "outputs": [],
   "source": [
    "# install dependencies if not exists\n",
    "!pip3 install tensorflow==2.3"
   ]
  },
  {
   "cell_type": "code",
   "execution_count": 2,
   "metadata": {},
   "outputs": [
    {
     "output_type": "stream",
     "name": "stdout",
     "text": [
      "Model: \"sequential_1\"\n_________________________________________________________________\nLayer (type)                 Output Shape              Param #   \n=================================================================\nflatten_1 (Flatten)          (None, 49152)             0         \n_________________________________________________________________\ndense_2 (Dense)              (None, 32)                1572896   \n_________________________________________________________________\ndropout_1 (Dropout)          (None, 32)                0         \n_________________________________________________________________\ndense_3 (Dense)              (None, 2)                 66        \n=================================================================\nTotal params: 1,572,962\nTrainable params: 1,572,962\nNon-trainable params: 0\n_________________________________________________________________\n\u001b[34m[DEBUG, \"/usr/lib/python3.8/runpy.py\":194, in _run_module_as_main]\u001b[39m 0\n"
     ]
    }
   ],
   "source": [
    "import keras\n",
    "import numpy as np\n",
    "import logger\n",
    "from face_wrapper import FaceWrapper\n",
    "\n",
    "face = FaceWrapper()\n",
    "face.load('fc_saved.h5')\n",
    "\n",
    "face.model.summary()\n",
    "\n",
    "img = keras.preprocessing.image.load_img('./faces/phucb1709618/phucb1709618_0.jpg')\n",
    "img = keras.preprocessing.image.img_to_array(img)\n",
    "\n",
    "label = np.argmax(face.predict([img]))\n",
    "logger.debug(label)"
   ]
  }
 ]
}